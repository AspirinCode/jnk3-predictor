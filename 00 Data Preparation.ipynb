{
 "cells": [
  {
   "cell_type": "markdown",
   "metadata": {},
   "source": [
    "### Imports"
   ]
  },
  {
   "cell_type": "code",
   "execution_count": 1,
   "metadata": {},
   "outputs": [],
   "source": [
    "from rdkit import Chem\n",
    "\n",
    "from rdkit.Chem.Draw import IPythonConsole\n",
    "from rdkit.Chem import Draw\n",
    "IPythonConsole.ipython_useSVG=True\n",
    "\n",
    "import gzip\n",
    "import pickle"
   ]
  },
  {
   "cell_type": "code",
   "execution_count": 6,
   "metadata": {},
   "outputs": [],
   "source": [
    "import random"
   ]
  },
  {
   "cell_type": "markdown",
   "metadata": {},
   "source": [
    "Create iterators for all active and all inactive molecules.\n",
    "\n",
    "Iterators are required because the files are zipped (`.sdf.gz`)"
   ]
  },
  {
   "cell_type": "code",
   "execution_count": 2,
   "metadata": {},
   "outputs": [],
   "source": [
    "active_molecules_iterator = Chem.ForwardSDMolSupplier(gzip.open(\"./data/all_active_all_inactive/active.sdf.gz\"))\n",
    "inactive_molecules_iterator = Chem.ForwardSDMolSupplier(gzip.open(\"./data/all_active_all_inactive/inactive.sdf.gz\"))"
   ]
  },
  {
   "cell_type": "markdown",
   "metadata": {},
   "source": [
    "Create Python lists of RDKit molecule objects for future processing"
   ]
  },
  {
   "cell_type": "code",
   "execution_count": 3,
   "metadata": {},
   "outputs": [],
   "source": [
    "active_mols = [m for m in active_molecules_iterator if m is not None]\n",
    "inactive_mols = [m for m in inactive_molecules_iterator if m is not None]"
   ]
  },
  {
   "cell_type": "code",
   "execution_count": 4,
   "metadata": {},
   "outputs": [
    {
     "name": "stdout",
     "output_type": "stream",
     "text": [
      "len of active_mols: 366\n",
      "len of inactive_mols: 59422\n"
     ]
    }
   ],
   "source": [
    "print(f\"len of active_mols: {len(active_mols)}\")\n",
    "print(f\"len of inactive_mols: {len(inactive_mols)}\")"
   ]
  },
  {
   "cell_type": "markdown",
   "metadata": {},
   "source": [
    "Save the lists as `.pickle` objects in corresponding folders for future use"
   ]
  },
  {
   "cell_type": "code",
   "execution_count": 5,
   "metadata": {},
   "outputs": [],
   "source": [
    "with open(\"./data/0_all_active_all_inactive/all_active.pickle\", \"wb\") as file:\n",
    "    pickle.dump(active_mols, file)\n",
    "    \n",
    "with open(\"./data/0_all_active_all_inactive/all_inactive.pickle\", \"wb\") as file2:\n",
    "    pickle.dump(inactive_mols, file2)"
   ]
  },
  {
   "cell_type": "markdown",
   "metadata": {},
   "source": [
    "Selecting 366 random molecules (remembering, which I choose just in case)"
   ]
  },
  {
   "cell_type": "code",
   "execution_count": 9,
   "metadata": {},
   "outputs": [],
   "source": [
    "inactive_mols_dict = dict(zip( range(len(inactive_mols)), inactive_mols ))\n",
    "inactive_mols_random_keys = random.sample(list(inactive_mols_dict), len(active_mols))\n",
    "random_inactive_molecules = [inactive_mols_dict[k] for k in inactive_mols_random_keys]"
   ]
  },
  {
   "cell_type": "code",
   "execution_count": 12,
   "metadata": {},
   "outputs": [],
   "source": [
    "with open(\"./data/1_all_active_random_inactive/random_inactive.pickle\", \"wb\") as file3:\n",
    "    pickle.dump(random_inactive_molecules, file3)"
   ]
  },
  {
   "cell_type": "code",
   "execution_count": null,
   "metadata": {},
   "outputs": [],
   "source": []
  }
 ],
 "metadata": {
  "kernelspec": {
   "display_name": "Python 3",
   "language": "python",
   "name": "python3"
  },
  "language_info": {
   "codemirror_mode": {
    "name": "ipython",
    "version": 3
   },
   "file_extension": ".py",
   "mimetype": "text/x-python",
   "name": "python",
   "nbconvert_exporter": "python",
   "pygments_lexer": "ipython3",
   "version": "3.6.7"
  }
 },
 "nbformat": 4,
 "nbformat_minor": 2
}
