{
 "cells": [
  {
   "cell_type": "markdown",
   "metadata": {},
   "source": [
    "### Imports"
   ]
  },
  {
   "cell_type": "code",
   "execution_count": 1,
   "metadata": {},
   "outputs": [],
   "source": [
    "import pandas as pd\n",
    "import numpy as np\n",
    "import pickle"
   ]
  },
  {
   "cell_type": "markdown",
   "metadata": {},
   "source": [
    "### Loading Data"
   ]
  },
  {
   "cell_type": "code",
   "execution_count": 2,
   "metadata": {},
   "outputs": [],
   "source": [
    "mordred_all_active = pd.read_csv(\"./data/0_all_active_all_inactive/Mordred/all_active_mordred.csv\")\n",
    "mordred_all_inactive = pd.read_csv(\"./data/0_all_active_all_inactive/Mordred/all_inactive_mordred.csv\")\n",
    "mordred_366_random_inactive = pd.read_csv(\"./data/1_all_active_random_inactive/Mordred/random_inactive_mordred.csv\")\n",
    "with open('./data/2_all_active_autoencoder_inactive/Mordred/mordred_most_dissimilar_compounds_366.pickle', 'rb') as file5:\n",
    "    mordred_autoencoder_selected_366_inactive = pickle.load(file5)"
   ]
  },
  {
   "cell_type": "code",
   "execution_count": 22,
   "metadata": {},
   "outputs": [],
   "source": [
    "def get_ext_int_train(initial_active, initial_inactive):\n",
    "    \"\"\"\n",
    "    Accepts: two dataframes with descriptor values for active and inactive compounds\n",
    "             (already with the target column)\n",
    "    Returns: ext_x_test, ext_y_test, int_x_test, int_y_test, x_train, y_train\n",
    "    ! ! ! Note that its sample splits are hardcorded ! ! ! \n",
    "    \"\"\"\n",
    "    external_active = initial_active.sample(n=36, random_state=42)\n",
    "    external_inactive = initial_inactive.sample(n=36, random_state=42)\n",
    "    \n",
    "    external = pd.concat([external_active, external_inactive])\n",
    "    \n",
    "    external_y = external[\"target\"].values # returned\n",
    "    external_x = external.drop([\"target\"], axis=1).values # returned\n",
    "    \n",
    "    remaining_active = initial_active.drop(index=external_active.index)\n",
    "    remaining_inactive = initial_inactive.drop(index=external_inactive.index)\n",
    "    \n",
    "    internal_active = remaining_active.sample(n=33, random_state=42)\n",
    "    internal_inactive = remaining_inactive.sample(n=33, random_state=42)\n",
    "    \n",
    "    internal = pd.concat([internal_active, internal_inactive])\n",
    "    \n",
    "    internal_y = internal[\"target\"].values # returned\n",
    "    internal_x = internal.drop([\"target\"], axis=1).values # returned\n",
    "    \n",
    "    lastly_remaining_active = remaining_active.drop(index=internal_active.index)\n",
    "    lastly_remaining_inactive = remaining_inactive.drop(index=internal_inactive.index)\n",
    "    \n",
    "    train = pd.concat([lastly_remaining_active, lastly_remaining_inactive])\n",
    "    \n",
    "    train_y = train[\"target\"].values # returned\n",
    "    train_x = train.drop(['target'], axis=1).values #returned \n",
    "        \n",
    "    return external_x, external_y, internal_x, internal_y, train_x, train_y"
   ]
  },
  {
   "cell_type": "code",
   "execution_count": 5,
   "metadata": {},
   "outputs": [],
   "source": [
    "mordred_all_active[\"target\"] = 1"
   ]
  },
  {
   "cell_type": "code",
   "execution_count": 8,
   "metadata": {},
   "outputs": [],
   "source": [
    "mordred_all_inactive[\"target\"] = 0"
   ]
  },
  {
   "cell_type": "code",
   "execution_count": 18,
   "metadata": {},
   "outputs": [],
   "source": [
    "mordred_366_random_inactive[\"target\"] = 0"
   ]
  },
  {
   "cell_type": "code",
   "execution_count": 37,
   "metadata": {},
   "outputs": [
    {
     "data": {
      "text/plain": [
       "Index(['ABC', 'ABCGG', 'nAcid', 'nBase', 'SpAbs_A', 'SpMax_A', 'SpDiam_A',\n",
       "       'SpAD_A', 'SpMAD_A', 'LogEE_A',\n",
       "       ...\n",
       "       'TSRW10', 'MW', 'AMW', 'WPath', 'WPol', 'Zagreb1', 'Zagreb2',\n",
       "       'mZagreb1', 'mZagreb2', 'target'],\n",
       "      dtype='object', length=1600)"
      ]
     },
     "execution_count": 37,
     "metadata": {},
     "output_type": "execute_result"
    }
   ],
   "source": [
    "mordred_366_random_inactive.columns"
   ]
  },
  {
   "cell_type": "code",
   "execution_count": 29,
   "metadata": {},
   "outputs": [],
   "source": [
    "mordred_autoencoder_selected_366_inactive_df = pd.DataFrame(data=mordred_autoencoder_selected_366_inactive)"
   ]
  },
  {
   "cell_type": "code",
   "execution_count": 32,
   "metadata": {},
   "outputs": [],
   "source": [
    "mordred_autoencoder_selected_366_inactive_df[\"target\"] = 0"
   ]
  },
  {
   "cell_type": "code",
   "execution_count": 38,
   "metadata": {},
   "outputs": [],
   "source": [
    "mordred_autoencoder_selected_366_inactive_df.columns = mordred_366_random_inactive.columns"
   ]
  },
  {
   "cell_type": "code",
   "execution_count": 40,
   "metadata": {},
   "outputs": [
    {
     "data": {
      "text/plain": [
       "(366, 1600)"
      ]
     },
     "execution_count": 40,
     "metadata": {},
     "output_type": "execute_result"
    }
   ],
   "source": [
    "mordred_autoencoder_selected_366_inactive_df.shape"
   ]
  },
  {
   "cell_type": "code",
   "execution_count": 41,
   "metadata": {},
   "outputs": [],
   "source": [
    "external_x, external_y, internal_x, internal_y, train_x, train_y = get_ext_int_train(mordred_all_active, mordred_autoencoder_selected_366_inactive_df)\n",
    "\n",
    "\n"
   ]
  },
  {
   "cell_type": "code",
   "execution_count": 42,
   "metadata": {},
   "outputs": [
    {
     "data": {
      "text/plain": [
       "array([[17.136971689621156, 14.637185095120206, 0, ..., 137.0,\n",
       "        7.3888888888888875, 4.861111111111111],\n",
       "       [18.37284576703177, 14.21305921525283, 0, ..., 146.0,\n",
       "        5.527777777777778, 5.0],\n",
       "       [14.675551403019512, 12.757751408264609, 0, ..., 126.0,\n",
       "        6.027777777777778, 4.361111111111111],\n",
       "       ...,\n",
       "       [7.099577382566893, 7.101505014582252, 0, ..., 57.0,\n",
       "        2.583333333333333, 1.9722222222222223],\n",
       "       [22.16759938696675, 18.90947259442865, 0, ..., 159.0, 0.0,\n",
       "        7.0555555555555545],\n",
       "       [23.17901447973989, 21.19561277764648, 1, ..., 176.0,\n",
       "        12.972222222222221, 7.0555555555555545]], dtype=object)"
      ]
     },
     "execution_count": 42,
     "metadata": {},
     "output_type": "execute_result"
    }
   ],
   "source": [
    "external_x"
   ]
  },
  {
   "cell_type": "code",
   "execution_count": 43,
   "metadata": {},
   "outputs": [
    {
     "data": {
      "text/plain": [
       "(72, 1599)"
      ]
     },
     "execution_count": 43,
     "metadata": {},
     "output_type": "execute_result"
    }
   ],
   "source": [
    "external_x.shape"
   ]
  },
  {
   "cell_type": "code",
   "execution_count": 44,
   "metadata": {},
   "outputs": [],
   "source": [
    "with open(\"./data/2_all_active_autoencoder_inactive/Mordred/for_ml/external_test_set/external_x_test.pickle\", \"wb\") as file1:\n",
    "    pickle.dump(external_x, file1)\n",
    "    \n",
    "with open(\"./data/2_all_active_autoencoder_inactive/Mordred/for_ml/external_test_set/external_y_test.pickle\", \"wb\") as file2:\n",
    "    pickle.dump(external_y, file2)\n",
    "    \n",
    "with open(\"./data/2_all_active_autoencoder_inactive/Mordred/for_ml/internal_test_set/internal_x_test.pickle\", \"wb\") as file3:\n",
    "    pickle.dump(internal_x, file3)\n",
    "    \n",
    "with open(\"./data/2_all_active_autoencoder_inactive/Mordred/for_ml/internal_test_set/internal_y_test.pickle\", \"wb\") as file4:\n",
    "    pickle.dump(internal_y, file4)\n",
    "    \n",
    "with open(\"./data/2_all_active_autoencoder_inactive/Mordred/for_ml/train_set/x_train.pickle\", \"wb\") as file5:\n",
    "    pickle.dump(train_x, file5)\n",
    "\n",
    "with open(\"./data/2_all_active_autoencoder_inactive/Mordred/for_ml/train_set/y_train.pickle\", \"wb\") as file6:\n",
    "    pickle.dump(train_y, file6)"
   ]
  },
  {
   "cell_type": "code",
   "execution_count": null,
   "metadata": {},
   "outputs": [],
   "source": []
  }
 ],
 "metadata": {
  "kernelspec": {
   "display_name": "Python 3",
   "language": "python",
   "name": "python3"
  },
  "language_info": {
   "codemirror_mode": {
    "name": "ipython",
    "version": 3
   },
   "file_extension": ".py",
   "mimetype": "text/x-python",
   "name": "python",
   "nbconvert_exporter": "python",
   "pygments_lexer": "ipython3",
   "version": "3.7.5"
  }
 },
 "nbformat": 4,
 "nbformat_minor": 2
}
