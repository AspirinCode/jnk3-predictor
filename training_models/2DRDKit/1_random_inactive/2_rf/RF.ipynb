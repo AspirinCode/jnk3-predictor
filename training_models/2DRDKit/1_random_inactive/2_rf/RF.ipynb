{
 "cells": [
  {
   "cell_type": "markdown",
   "metadata": {},
   "source": [
    "### Imports"
   ]
  },
  {
   "cell_type": "code",
   "execution_count": 1,
   "metadata": {},
   "outputs": [],
   "source": [
    "import pandas as pd\n",
    "import numpy as np\n",
    "import pickle\n",
    "\n",
    "from sklearn.ensemble import RandomForestClassifier\n",
    "from sklearn.metrics import precision_recall_fscore_support\n",
    "\n",
    "import matplotlib.pyplot as plt\n",
    "%matplotlib inline\n",
    "%config InlineBackend.figure_formats = ['svg']\n",
    "\n",
    "import tensorflow as tf"
   ]
  },
  {
   "cell_type": "markdown",
   "metadata": {},
   "source": [
    "### Loading Data"
   ]
  },
  {
   "cell_type": "code",
   "execution_count": 2,
   "metadata": {},
   "outputs": [],
   "source": [
    "with open(\"../../../data/1_all_active_random_inactive/2DRDKit/for_ml/train_set/x_train.pickle\", \"rb\") as file:\n",
    "    x_train = pickle.load(file)\n",
    "\n",
    "with open(\"../../../data/1_all_active_random_inactive/2DRDKit/for_ml/train_set/y_train.pickle\", \"rb\") as file:\n",
    "    y_train = pickle.load(file)\n",
    "\n",
    "with open(\"../../../data/1_all_active_random_inactive/2DRDKit/for_ml/internal_test_set/internal_x_test.pickle\", \"rb\") as file:\n",
    "    internal_x_test = pickle.load(file)\n",
    "\n",
    "with open(\"../../../data/1_all_active_random_inactive/2DRDKit/for_ml/internal_test_set/internal_y_test.pickle\", \"rb\") as file:\n",
    "    internal_y_test = pickle.load(file)\n",
    "\n",
    "with open(\"../../../data/1_all_active_random_inactive/2DRDKit/for_ml/external_test_set/external_x_test.pickle\", \"rb\") as file:\n",
    "    external_x_test = pickle.load(file)\n",
    "\n",
    "with open(\"../../../data/1_all_active_random_inactive/2DRDKit/for_ml/external_test_set/external_y_test.pickle\", \"rb\") as file:\n",
    "    external_y_test = pickle.load(file)"
   ]
  },
  {
   "cell_type": "markdown",
   "metadata": {},
   "source": [
    "### Lists of Parameters"
   ]
  },
  {
   "cell_type": "code",
   "execution_count": 5,
   "metadata": {},
   "outputs": [],
   "source": [
    "random_forest_parameters = [\n",
    "    {\n",
    "        \"model_name\": \"Random Forest\",\n",
    "        \"n_estimators\": 100\n",
    "    },\n",
    "    {\n",
    "        \"model_name\": \"Random Forest\",\n",
    "        \"n_estimators\": 250\n",
    "    },\n",
    "    {\n",
    "        \"model_name\": \"Random Forest\",\n",
    "        \"n_estimators\": 500\n",
    "    },\n",
    "    {\n",
    "        \"model_name\": \"Random Forest\",\n",
    "        \"n_estimators\": 700\n",
    "    }\n",
    "]"
   ]
  },
  {
   "cell_type": "code",
   "execution_count": 6,
   "metadata": {},
   "outputs": [],
   "source": [
    "mlp_parameters = [\n",
    "    {\n",
    "        \"model_name\": \"MLP\",\n",
    "        \"size_of_int_layer\": 200\n",
    "    },\n",
    "    {\n",
    "        \"model_name\": \"MLP\",\n",
    "        \"size_of_int_layer\": 500\n",
    "    },\n",
    "    {\n",
    "        \"model_name\": \"MLP\",\n",
    "        \"size_of_int_layer\": 750\n",
    "    },\n",
    "    {\n",
    "        \"model_name\": \"MLP\",\n",
    "        \"size_of_int_layer\": 1000\n",
    "    }\n",
    "]"
   ]
  },
  {
   "cell_type": "markdown",
   "metadata": {},
   "source": [
    "### Training/Validation Loop"
   ]
  },
  {
   "cell_type": "code",
   "execution_count": 7,
   "metadata": {},
   "outputs": [
    {
     "name": "stdout",
     "output_type": "stream",
     "text": [
      "0\n",
      "model fits\n",
      "model predicted\n",
      "int stats calculated\n",
      "ext stats calculated\n",
      "1\n",
      "model fits\n",
      "model predicted\n",
      "int stats calculated\n",
      "ext stats calculated\n",
      "2\n",
      "model fits\n",
      "model predicted\n",
      "int stats calculated\n",
      "ext stats calculated\n",
      "3\n",
      "model fits\n",
      "model predicted\n",
      "int stats calculated\n",
      "ext stats calculated\n"
     ]
    }
   ],
   "source": [
    "with open(\"./training_testing_results.csv\", \"w\") as log_file:\n",
    "    log_file.write(\"n_estimators,int_precision,int_recall,int_fbeta,ext_precision,ext_recall,ext_fbeta\\n\")\n",
    "    for n, model_params in enumerate(random_forest_parameters):\n",
    "        print(n)\n",
    "        # log_file.write(f\"Model {n}\\n\")\n",
    "        # log_file.write(f\"Penalty: {model_params[\"penalty\"]}, C: {model_params[\"C\"]}\\n\")\n",
    "        log_file.write(f\"{model_params['n_estimators']},\")\n",
    "        \n",
    "        # first we create a model with one of the optimized parameter sets\n",
    "        print(\"model fits\")\n",
    "        rf_model = RandomForestClassifier(n_estimators=model_params[\"n_estimators\"], random_state=42)\n",
    "        rf_model.fit(x_train, y_train)\n",
    "\n",
    "        # then a model trained using these parameters is tested on the internal test set\n",
    "        # I use the classes as predictions, because the confusion matrix is calculated like this\n",
    "        # however, I think the production model should return probabilities\n",
    "        model_predictions = rf_model.predict(internal_x_test)\n",
    "        print(\"model predicted\")\n",
    "\n",
    "        # the values of the testing on the internal test set are then used to select the best model\n",
    "        # ? which <average> to select?? \n",
    "        # selected micro, idk why\n",
    "        precision, recall, fbeta, support = precision_recall_fscore_support(internal_y_test, model_predictions, average='micro')\n",
    "        log_file.write(f\"{precision},{recall},{fbeta},\")\n",
    "        \n",
    "        print(\"int stats calculated\")\n",
    "\n",
    "        # then the model is tested on an external test set to assess its \"real\" performance\n",
    "        model_predictions_for_external = rf_model.predict(external_x_test)\n",
    "        ext_precision, ext_recall, ext_fbeta, ext_support = precision_recall_fscore_support(external_y_test, model_predictions_for_external, average='micro')\n",
    "        print(\"ext stats calculated\")\n",
    "        log_file.write(f\"{ext_precision},{ext_recall},{ext_fbeta}\\n\")"
   ]
  },
  {
   "cell_type": "code",
   "execution_count": 8,
   "metadata": {},
   "outputs": [],
   "source": [
    "best_rf_model = RandomForestClassifier(n_estimators=100, random_state=42)"
   ]
  },
  {
   "cell_type": "code",
   "execution_count": 9,
   "metadata": {},
   "outputs": [
    {
     "data": {
      "text/plain": [
       "RandomForestClassifier(bootstrap=True, class_weight=None, criterion='gini',\n",
       "                       max_depth=None, max_features='auto', max_leaf_nodes=None,\n",
       "                       min_impurity_decrease=0.0, min_impurity_split=None,\n",
       "                       min_samples_leaf=1, min_samples_split=2,\n",
       "                       min_weight_fraction_leaf=0.0, n_estimators=100,\n",
       "                       n_jobs=None, oob_score=False, random_state=42, verbose=0,\n",
       "                       warm_start=False)"
      ]
     },
     "execution_count": 9,
     "metadata": {},
     "output_type": "execute_result"
    }
   ],
   "source": [
    "best_rf_model.fit(x_train, y_train)"
   ]
  },
  {
   "cell_type": "code",
   "execution_count": null,
   "metadata": {},
   "outputs": [],
   "source": [
    "from sklearn.metrics import roc_auc_score\n",
    "from sklearn.metrics import roc_curve\n",
    "logit_roc_auc = roc_auc_score(internal_y_test, best_rf_model.predict(internal_x_test))\n",
    "fpr, tpr, thresholds = roc_curve(internal_y_test, best_rf_model.predict_proba(internal_x_test)[:,1])\n",
    "plt.figure()\n",
    "plt.plot(fpr, tpr, label='Logistic Regression (area = %0.2f)' % logit_roc_auc)\n",
    "plt.plot([0, 1], [0, 1],'r--')\n",
    "plt.xlim([0.0, 1.0])\n",
    "plt.ylim([0.0, 1.05])\n",
    "plt.xlabel('False Positive Rate')\n",
    "plt.ylabel('True Positive Rate')\n",
    "plt.title('Receiver operating characteristic')\n",
    "plt.legend(loc=\"lower right\")\n",
    "plt.savefig('svm_ROC.png', dpi=600)\n",
    "plt.show()"
   ]
  }
 ],
 "metadata": {
  "kernelspec": {
   "display_name": "Python 3",
   "language": "python",
   "name": "python3"
  },
  "language_info": {
   "codemirror_mode": {
    "name": "ipython",
    "version": 3
   },
   "file_extension": ".py",
   "mimetype": "text/x-python",
   "name": "python",
   "nbconvert_exporter": "python",
   "pygments_lexer": "ipython3",
   "version": "3.7.5"
  }
 },
 "nbformat": 4,
 "nbformat_minor": 2
}
